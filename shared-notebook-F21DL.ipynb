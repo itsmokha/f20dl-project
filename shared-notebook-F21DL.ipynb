{
 "cells": [
  {
   "cell_type": "markdown",
   "metadata": {},
   "source": [
    "NARROWED DOWN TO 3 DATASETS (FROM 8):\n",
    "\n",
    "1. Cigarette Smoker Detection (https://www.kaggle.com/datasets/vitaminc/cigarette-smoker-detection) \n",
    "2. Pokemon Gen VII Pokedex with Moves (https://www.kaggle.com/datasets/csobral/pokemon-gen-vii-pokedex)\n",
    "3. GTZAN Dataset - Music Genre Classification (https://www.kaggle.com/datasets/andradaolteanu/gtzan-dataset-music-genre-classification)\n",
    "\n",
    "SELECTED DATASETS TO BE WORKED ON:\n",
    "1. Cigarette Smoker Detection (https://www.kaggle.com/datasets/vitaminc/cigarette-smoker-detection) \n",
    "2. Pokemon Gen VII Pokedex with Moves (https://www.kaggle.com/datasets/csobral/pokemon-gen-vii-pokedex)\n",
    "\n",
    "DESCRIPTION OF THE SELECTED DATASETS:\n",
    "- The finalized datasets provide a good enough capacity to scrape out links/relations between features.\n",
    "- The datasets would provide a spanned out view of preprocessing in order to meet the marking criteria.\n",
    "- The datasets provide a higher window of opportunity to experiment with different M.L. models.\n",
    "- The dataset(s) provide tasks that would align with the marking criteria during the development of their model(s) \n",
    "\n",
    "CONCLUSION (AFTER INPUT FROM LAB TUTOR):\n",
    "- With our lab tutor's(Professor Radu) guidance we successfully came to the conclusion of choosing Cigarette Smoker Detection dataset & Pokemon Gen VII Pokedex with Moves dataset.\n",
    "- These two datasets' provide us with an opportunity to work with both image and tabular datasets, the image based dataset is good for preprocessing learning(s) and on the other hand the tabular dataset helps us efficiently extract the graphical relationships of the features.\n",
    "- The datasets provide the opportunity of implementing different machine learning models which would inturn be significantly beneficial.\n",
    "\n",
    "GROUP MEMBERS EXPLAINATION FOR OPTING THESE DATASETS:\n",
    "##### VAIBHAV MURARI (vm81/H00340587) :- \n",
    "- I had recommended cigarette smoker detection dataset as it is not a monotonous dataset which is being worked on.\n",
    "- Offers us an opportunity to learn to create Neural Network models for processing an image and classifying/predicting results corresponding to it.\n",
    "- Contains a large amount of data for training.\n",
    "\n",
    "##### FAIZAN PATEL (fhp1/H00327624) :- \n",
    "- Initially proposed two datasets that we ruled out, face and emotion recognition algorithim & music genre classification \n",
    "- The face and emotion recognition algorithim was ruled out mostly due to its ubiquitousness and would be troubesome when it comes to the data visualisation step.\n",
    "- The music genre classification proposal was a good one, but seemed to be above the scope of this coursework and the margin of creating errors would remain large.\n",
    "- After a thorough discussion with my team members and our tutor I came to agree with the two selected datasets mentioned above."
   ]
  },
  {
   "cell_type": "markdown",
   "metadata": {},
   "source": []
  }
 ],
 "metadata": {
  "language_info": {
   "name": "python"
  },
  "orig_nbformat": 4
 },
 "nbformat": 4,
 "nbformat_minor": 2
}
