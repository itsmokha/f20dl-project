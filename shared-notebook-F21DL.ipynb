{
 "cells": [
  {
   "cell_type": "markdown",
   "metadata": {},
   "source": [
    "NARROWED 3 DATASETS:\n",
    "\n",
    "1. Cigarette Smoker Detection (https://www.kaggle.com/datasets/vitaminc/cigarette-smoker-detection) \n",
    "2. Pokemon Gen VII Pokedex with Moves (https://www.kaggle.com/datasets/csobral/pokemon-gen-vii-pokedex)\n",
    "3. GTZAN Dataset - Music Genre Classification (https://www.kaggle.com/datasets/andradaolteanu/gtzan-dataset-music-genre-classification)\n",
    "\n",
    "CHOSEN 2 DATASETS TO WORK ON:\n",
    "1. Cigarette Smoker Detection (https://www.kaggle.com/datasets/vitaminc/cigarette-smoker-detection) \n",
    "2. Pokemon Gen VII Pokedex with Moves (https://www.kaggle.com/datasets/csobral/pokemon-gen-vii-pokedex)\n",
    "\n",
    "DESCRIPTION OF THE DATASETS NARROWED:\n",
    "- The narrowed datasets provide enough scope to scrape out links/relations between features.\n",
    "- The datasets have enough scope to provide us with a panned out view of preprocessing.\n",
    "- The datasets have a higher range to try out and experiment with different M.L. models.\n",
    "- The coursework tasks are aligned with the development of the model(s) for the datasets\n",
    "\n",
    "CONCLUSIONS OF THE DISCUSSION WITH THE LAB TUTOR:\n",
    "- With our lab tutor's(Professor Radu) guidance we successfully came to a conclusion of choosing Cigarette Smoker Detection dataset & Pokemon Gen VII Pokedex with Moves dataset.\n",
    "- These two datasets' provide us with an opportunity to work with image and tabular datasets, image based dataset is good for preprocessing learning(s) on the other hand tabular dataset helps us efficiently extract out graphical relationships of features.\n",
    "- The flexibility of trying out different machine learning models is also a huge benefits of these datasets.\n",
    "\n",
    "GROUP MEMBERS EXPLAINATION FOR OPTING THESE DATASETS:\n",
    "##### VAIBHAV MURARI (vm81/H00340587) :- \n",
    "- I had recommended cigarette smoker detection dataset as it is not a monotonous dataset which is being worked on.\n",
    "- Offers us an opportunity to learn to create Neural Network models for processing an image and classifying/predicting results corresponding to it.\n",
    "- Contains a large amount of data for training."
   ]
  },
  {
   "cell_type": "markdown",
   "metadata": {},
   "source": []
  }
 ],
 "metadata": {
  "language_info": {
   "name": "python"
  },
  "orig_nbformat": 4
 },
 "nbformat": 4,
 "nbformat_minor": 2
}
